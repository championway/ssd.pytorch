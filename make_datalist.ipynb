{
 "cells": [
  {
   "cell_type": "code",
   "execution_count": 1,
   "metadata": {},
   "outputs": [],
   "source": [
    "data_path = \"/media/arg_ws3/5E703E3A703E18EB/data/subt/\"\n",
    "label_path = data_path + \"lab_list.txt\"\n",
    "image_path = data_path + \"../images/\""
   ]
  },
  {
   "cell_type": "code",
   "execution_count": 2,
   "metadata": {},
   "outputs": [],
   "source": [
    "import os\n",
    "if os.path.isdir(data_path) is False:\n",
    "    os.makedirs(data_path)"
   ]
  },
  {
   "cell_type": "code",
   "execution_count": 29,
   "metadata": {},
   "outputs": [
    {
     "name": "stdout",
     "output_type": "stream",
     "text": [
      "train_img_0.txt made\n",
      "test_img_0.txt made\n",
      "train_ann_0.txt made\n",
      "test_ann_0.txt made\n"
     ]
    }
   ],
   "source": [
    "import random\n",
    "import numpy as np\n",
    "\n",
    "for n in range(0, 1):\n",
    "    # if you don't have path.txt ,command \"sudo find ./ -name *.jpg >> path.txt\" in your image directory\n",
    "    fpath = np.loadtxt(data_path + \"annotation_path.txt\", str, \",\")\n",
    "    ftest_img = open(data_path + \"test_img_\"+str(n)+\".txt\", \"w\")\n",
    "    ftrain_img = open(data_path + \"train_img_\"+str(n)+\".txt\", \"w\")\n",
    "    ftest_ann = open(data_path + \"test_ann_\"+str(n)+\".txt\", \"w\")\n",
    "    ftrain_ann = open(data_path + \"train_ann_\"+str(n)+\".txt\", \"w\")\n",
    "\n",
    "    num_file = 0\n",
    "\n",
    "    while num_file < len(fpath):\n",
    "\n",
    "        chose = random.randint(0,len(fpath)-1)\n",
    "\n",
    "        # toolbox/image/frame001076\n",
    "        if len(fpath[chose]) == 1: # have picked\n",
    "            continue\n",
    "\n",
    "        ann_info = fpath[chose][2:-4] + \"\\n\"\n",
    "        ann_split = ann_info.split('/')\n",
    "        img_info = ann_split[0] + '/' + 'image/' + ann_split[2]\n",
    "\n",
    "        if num_file < int(len(fpath)*0.9):\n",
    "            ftrain_img.write(img_info) \n",
    "            ftrain_ann.write(ann_info)        \n",
    "        else:\n",
    "            ftest_img.write(img_info)\n",
    "            ftest_ann.write(ann_info)\n",
    "\n",
    "        fpath[chose] = 0\n",
    "        num_file += 1\n",
    "\n",
    "    ftrain_img.close()\n",
    "    print (\"train_img_\"+str(n)+\".txt made\")\n",
    "    ftest_img.close()\n",
    "    print (\"test_img_\"+str(n)+\".txt made\")\n",
    "    ftrain_ann.close()\n",
    "    print (\"train_ann_\"+str(n)+\".txt made\")\n",
    "    ftest_ann.close()\n",
    "    print (\"test_ann_\"+str(n)+\".txt made\")"
   ]
  },
  {
   "cell_type": "code",
   "execution_count": null,
   "metadata": {},
   "outputs": [],
   "source": []
  }
 ],
 "metadata": {
  "kernelspec": {
   "display_name": "Python 3",
   "language": "python",
   "name": "python3"
  },
  "language_info": {
   "codemirror_mode": {
    "name": "ipython",
    "version": 3
   },
   "file_extension": ".py",
   "mimetype": "text/x-python",
   "name": "python",
   "nbconvert_exporter": "python",
   "pygments_lexer": "ipython3",
   "version": "3.5.2"
  }
 },
 "nbformat": 4,
 "nbformat_minor": 2
}
