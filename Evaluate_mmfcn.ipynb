{
 "cells": [
  {
   "cell_type": "code",
   "execution_count": 1,
   "metadata": {},
   "outputs": [],
   "source": [
    "import os\n",
    "import sys\n",
    "module_path = os.path.abspath(os.path.join('..'))\n",
    "if module_path not in sys.path:\n",
    "    sys.path.append(module_path)\n",
    "import torch\n",
    "import torch.nn as nn\n",
    "import torch.backends.cudnn as cudnn\n",
    "from torch.autograd import Variable\n",
    "import numpy as np\n",
    "import cv2\n",
    "if torch.cuda.is_available():\n",
    "    torch.set_default_tensor_type('torch.cuda.FloatTensor')\n",
    "\n",
    "from ssd import build_ssd\n",
    "%matplotlib inline\n",
    "from matplotlib import pyplot as plt\n",
    "import random\n",
    "import os.path as osp"
   ]
  },
  {
   "cell_type": "markdown",
   "metadata": {},
   "source": [
    "## Define class and matching index"
   ]
  },
  {
   "cell_type": "code",
   "execution_count": 2,
   "metadata": {},
   "outputs": [],
   "source": [
    "label_list = ['3m', 'andes', 'cocacola', 'crayola', 'folgers','heineken','hunts','kellogg','kleenex',\\\n",
    "               'kotex','libava','macadamia','milo','mm','pocky','raisins','stax','swissmiss','vanish','viva']\n",
    "LABEL = dict(zip(label_list, range(len(label_list))))"
   ]
  },
  {
   "cell_type": "code",
   "execution_count": 3,
   "metadata": {},
   "outputs": [],
   "source": [
    "DATA_ROOT = \"/media/arg_ws3/5E703E3A703E18EB/data/mm_FCN/real/\"\n",
    "IMG_ROOT = osp.join(DATA_ROOT, \"image\")\n",
    "MASK_ROOT = osp.join(DATA_ROOT, \"mask\")\n",
    "img_list = os.listdir(IMG_ROOT)\n",
    "mask_list = os.listdir(MASK_ROOT)\n",
    "GT_ROOT = osp.join(DATA_ROOT, \"groundtruths_mmfcn\")\n",
    "DT_ROOT = osp.join(DATA_ROOT, \"detections_real\")\n",
    "if not osp.exists(GT_ROOT):\n",
    "    os.makedirs(GT_ROOT)\n",
    "if not osp.exists(DT_ROOT):\n",
    "    os.makedirs(DT_ROOT)"
   ]
  },
  {
   "cell_type": "markdown",
   "metadata": {},
   "source": [
    "## Create ground truth file for mmfcn real data"
   ]
  },
  {
   "cell_type": "code",
   "execution_count": 4,
   "metadata": {},
   "outputs": [],
   "source": [
    "for data in mask_list:\n",
    "    mask = cv2.imread(osp.join(MASK_ROOT, data), cv2.IMREAD_GRAYSCALE)\n",
    "    name = data.split('.')[0]\n",
    "    x, y, w, h = cv2.boundingRect(mask)\n",
    "    if (x, y, w, h) != (0, 0, 0, 0):\n",
    "        label = int(mask[mask!=0][0])-1\n",
    "        cls = list(LABEL.keys())[list(LABEL.values()).index(label)]\n",
    "        # <x> <y> <width> <height>\n",
    "        f = open(osp.join(GT_ROOT, name + \".txt\"), \"w+\")\n",
    "        ss = cls + \" \" + str(x) + \" \" + str(y) + \" \" + str(w) + \" \" + str(h)\n",
    "        f.write(ss)\n",
    "        f.close() \n",
    "    else: # if there is no any object inside\n",
    "        f = open(osp.join(GT_ROOT, name + \".txt\"), \"w+\")\n",
    "        f.close()"
   ]
  },
  {
   "cell_type": "markdown",
   "metadata": {},
   "source": [
    "## SSD detection"
   ]
  },
  {
   "cell_type": "code",
   "execution_count": 4,
   "metadata": {},
   "outputs": [
    {
     "name": "stdout",
     "output_type": "stream",
     "text": [
      "Loading weights into state dict...\n",
      "Finished!\n"
     ]
    },
    {
     "name": "stderr",
     "output_type": "stream",
     "text": [
      "/home/arg_ws3/ssd.pytorch/ssd.py:34: UserWarning: volatile was removed and now has no effect. Use `with torch.no_grad():` instead.\n",
      "  self.priors = Variable(self.priorbox.forward(), volatile=True)\n",
      "/home/arg_ws3/ssd.pytorch/layers/modules/l2norm.py:17: UserWarning: nn.init.constant is now deprecated in favor of nn.init.constant_.\n",
      "  init.constant(self.weight,self.gamma)\n"
     ]
    }
   ],
   "source": [
    "net = build_ssd('test', 300, 21)    # initialize SSD, +1 for background\n",
    "net.load_weights('/media/arg_ws3/5E703E3A703E18EB/research/mm_fcn/ssd/real/real_21.pth')"
   ]
  },
  {
   "cell_type": "markdown",
   "metadata": {},
   "source": [
    "## Build SSD300 Network"
   ]
  },
  {
   "cell_type": "code",
   "execution_count": 5,
   "metadata": {
    "scrolled": true
   },
   "outputs": [],
   "source": [
    "for img in img_list:\n",
    "    image = cv2.imread(osp.join(IMG_ROOT, img))\n",
    "\n",
    "    x = cv2.resize(image, (300, 300)).astype(np.float32)\n",
    "    x -= (104.0, 117.0, 123.0)\n",
    "    x = x.astype(np.float32)\n",
    "    x = x[:, :, ::-1].copy()\n",
    "    x = torch.from_numpy(x).permute(2, 0, 1)\n",
    "\n",
    "    xx = Variable(x.unsqueeze(0))     # wrap tensor in Variable\n",
    "    if torch.cuda.is_available():\n",
    "        xx = xx.cuda()\n",
    "    y = net(xx)\n",
    "\n",
    "    scale = torch.Tensor(image.shape[1::-1]).repeat(2)\n",
    "    detections = y.data # torch.Size([1, 4, 200, 5]) --> [batch?, class, object, coordinates]\n",
    "    objs = []\n",
    "    for i in range(detections.size(1)): # detections.size(1) --> class size\n",
    "        for j in range(5): # each class choose top 5 predictions\n",
    "            if detections[0, i, j, 0].cpu().numpy() > 0.1:\n",
    "                score = detections[0, i, j, 0]\n",
    "                pt = (detections[0, i, j,1:]*scale).cpu().numpy()\n",
    "                objs.append([int(pt[0]), int(pt[1]), int(pt[2]-pt[0]+1), int(pt[3]-pt[1]+1), \\\n",
    "                             list(LABEL.keys())[list(LABEL.values()).index(i-1)], score.item()])\n",
    "    #print(objs)\n",
    "    f = open(osp.join(DT_ROOT,  img.split('.')[0] + \".txt\"), \"w+\")\n",
    "    for obj in objs:\n",
    "        ss = obj[4] + \" \" + str(obj[5])[1:] + \" \" + str(obj[0]) + \" \" + str(obj[1]) +\\\n",
    "        \" \" + str(obj[2]) + \" \" + str(obj[3]) + \"\\n\"\n",
    "        f.write(ss)\n",
    "    f.close()"
   ]
  },
  {
   "cell_type": "code",
   "execution_count": null,
   "metadata": {},
   "outputs": [],
   "source": []
  }
 ],
 "metadata": {
  "kernelspec": {
   "display_name": "Python 3",
   "language": "python",
   "name": "python3"
  },
  "language_info": {
   "codemirror_mode": {
    "name": "ipython",
    "version": 3
   },
   "file_extension": ".py",
   "mimetype": "text/x-python",
   "name": "python",
   "nbconvert_exporter": "python",
   "pygments_lexer": "ipython3",
   "version": "3.5.2"
  }
 },
 "nbformat": 4,
 "nbformat_minor": 2
}
