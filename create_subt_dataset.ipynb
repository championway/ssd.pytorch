{
 "cells": [
  {
   "cell_type": "markdown",
   "metadata": {},
   "source": [
    "## Create SubT Dataset"
   ]
  },
  {
   "cell_type": "code",
   "execution_count": 1,
   "metadata": {},
   "outputs": [],
   "source": [
    "import os\n",
    "import random"
   ]
  },
  {
   "cell_type": "code",
   "execution_count": 2,
   "metadata": {},
   "outputs": [
    {
     "data": {
      "text/plain": [
       "['Annotations', 'generate_xml.py', 'image', 'ImageSets']"
      ]
     },
     "execution_count": 2,
     "metadata": {},
     "output_type": "execute_result"
    }
   ],
   "source": [
    "path = \"/media/arg_ws3/5E703E3A703E18EB/data/subt_real\"\n",
    "root = \"/media/arg_ws3/5E703E3A703E18EB/data/subt_real\"\n",
    "obj_list = os.listdir(path)\n",
    "obj_list"
   ]
  },
  {
   "cell_type": "code",
   "execution_count": 21,
   "metadata": {},
   "outputs": [],
   "source": [
    "for obj in obj_list:\n",
    "    ann_list = os.listdir(path + '/' + obj + '/annotation')\n",
    "    for ann in ann_list:\n",
    "        ann_name = ann\n",
    "        img_name = ann.split('.')[0]+'.jpg'\n",
    "        img_path = path + '/' + obj + '/image/' + img_name\n",
    "        ann_path = path + '/' + obj + '/annotation/' + ann_name\n",
    "        new_img_path = root + '/JPEGImages/' + obj + '_' + img_name\n",
    "        new_ann_path = root + '/Annotations/' + obj + '_' + ann_name\n",
    "        os.rename(img_path, new_img_path)\n",
    "        os.rename(ann_path, new_ann_path)"
   ]
  },
  {
   "cell_type": "markdown",
   "metadata": {},
   "source": [
    "## Create train.txt and test.txt"
   ]
  },
  {
   "cell_type": "code",
   "execution_count": 32,
   "metadata": {},
   "outputs": [],
   "source": [
    "import random\n",
    "file_path = '/media/arg_ws3/5E703E3A703E18EB/data/subt_artifact/ImageSets/Main/'\n",
    "train_file = open(file_path + \"train.txt\", \"w\")\n",
    "test_file = open(file_path + \"test.txt\", \"w\")\n",
    "img_path = \"/media/arg_ws3/5E703E3A703E18EB/data/subt_artifact/JPEGImages\"\n",
    "img_list = os.listdir(img_path)\n",
    "ratio = 0.9\n",
    "counter = 0\n",
    "data_num = len(img_list)\n",
    "pick_list = []\n",
    "while counter < data_num:\n",
    "    idx = random.randint(0, data_num - 1)\n",
    "    if idx not in pick_list:\n",
    "        name = img_list[idx].split('.')[0] + '\\n'\n",
    "        if counter < data_num * ratio:\n",
    "            train_file.write(name)\n",
    "        else:\n",
    "            test_file.write(name)\n",
    "        counter = counter + 1\n",
    "train_file.close()\n",
    "test_file.close()"
   ]
  },
  {
   "cell_type": "markdown",
   "metadata": {},
   "source": [
    "## Create specific object txt file"
   ]
  },
  {
   "cell_type": "code",
   "execution_count": 7,
   "metadata": {},
   "outputs": [],
   "source": [
    "file_path = '/media/arg_ws3/5E703E3A703E18EB/data/subt_artifact/ImageSets/Main/'\n",
    "ext_file = open(file_path + \"radio.txt\", \"w\")\n",
    "img_path = \"/media/arg_ws3/5E703E3A703E18EB/data/subt_artifact/JPEGImages\"\n",
    "img_list = os.listdir(img_path)\n",
    "ratio = 0.9\n",
    "counter = 0\n",
    "data_num = len(img_list)\n",
    "pick_list = []\n",
    "for img in img_list:\n",
    "    data_name = img.split('.')[0]\n",
    "    ext_cha = img.replace('_', '.').split('.')[0]\n",
    "    if ext_cha == \"radio\":\n",
    "        name = data_name + '\\n'\n",
    "        ext_file.write(name)\n",
    "ext_file.close()"
   ]
  },
  {
   "cell_type": "markdown",
   "metadata": {},
   "source": [
    "## Move file from one folder to another"
   ]
  },
  {
   "cell_type": "code",
   "execution_count": 34,
   "metadata": {},
   "outputs": [],
   "source": [
    "def move_folder(orig_path, new_path):\n",
    "    data_list = os.listdir(orig_path)\n",
    "    for data in data_list:\n",
    "        orig_data = orig_path + \"/\" + data\n",
    "        new_data = new_path + \"/\" + data\n",
    "        os.rename(orig_data, new_data)"
   ]
  },
  {
   "cell_type": "code",
   "execution_count": 36,
   "metadata": {},
   "outputs": [],
   "source": [
    "move_folder(\"/media/arg_ws3/5E703E3A703E18EB/data/MM_sem/train/A\", \"/media/arg_ws3/5E703E3A703E18EB/data/MM_sem/A\")"
   ]
  },
  {
   "cell_type": "markdown",
   "metadata": {},
   "source": [
    "## Read annotation file"
   ]
  },
  {
   "cell_type": "code",
   "execution_count": 55,
   "metadata": {},
   "outputs": [
    {
     "name": "stdout",
     "output_type": "stream",
     "text": [
      "/home/biomotion/subt_docker/data/extinguisher/frame000057.jpg\n"
     ]
    }
   ],
   "source": [
    "import xml.etree.ElementTree as ET\n",
    "import os.path as osp\n",
    "f_path = '/media/arg_ws3/5E703E3A703E18EB/data/subt_artifact/ImageSets/Main/ext.txt'\n",
    "annopath = osp.join('/media/arg_ws3/5E703E3A703E18EB/data/subt_artifact/Annotations', '%s.xml')\n",
    "ids_list = []\n",
    "for line in open(osp.join(f_path)):\n",
    "    ids_list.append(line.strip())\n",
    "for ids in ids_list:\n",
    "    target = ET.parse(annopath % ids).getroot()\n",
    "    name = target.find('object').find('name').text\n",
    "    if name != \"extinguisher\":\n",
    "        print(target.find('path').text)\n",
    "#target = ET.parse(annopath % id).getroot()"
   ]
  }
 ],
 "metadata": {
  "kernelspec": {
   "display_name": "Python 3",
   "language": "python",
   "name": "python3"
  },
  "language_info": {
   "codemirror_mode": {
    "name": "ipython",
    "version": 3
   },
   "file_extension": ".py",
   "mimetype": "text/x-python",
   "name": "python",
   "nbconvert_exporter": "python",
   "pygments_lexer": "ipython3",
   "version": "3.5.2"
  }
 },
 "nbformat": 4,
 "nbformat_minor": 2
}
