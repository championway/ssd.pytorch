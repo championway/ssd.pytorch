{
 "cells": [
  {
   "cell_type": "code",
   "execution_count": 1,
   "metadata": {},
   "outputs": [],
   "source": [
    "import os\n",
    "import random"
   ]
  },
  {
   "cell_type": "code",
   "execution_count": 27,
   "metadata": {},
   "outputs": [
    {
     "data": {
      "text/plain": [
       "['backpack', 'extinguisher', 'radio', 'toolbox', 'valve']"
      ]
     },
     "execution_count": 27,
     "metadata": {},
     "output_type": "execute_result"
    }
   ],
   "source": [
    "path = \"/media/arg_ws3/5E703E3A703E18EB/data/subt_artifact/object\"\n",
    "root = \"/media/arg_ws3/5E703E3A703E18EB/data/subt_artifact\"\n",
    "obj_list = os.listdir(path)\n",
    "obj_list"
   ]
  },
  {
   "cell_type": "code",
   "execution_count": 28,
   "metadata": {},
   "outputs": [],
   "source": [
    "for obj in obj_list:\n",
    "    ann_list = os.listdir(path + '/' + obj + '/annotation')\n",
    "    for ann in ann_list:\n",
    "        ann_name = ann\n",
    "        img_name = ann.split('.')[0]+'.jpg'\n",
    "        img_path = path + '/' + obj + '/image/' + img_name\n",
    "        ann_path = path + '/' + obj + '/annotation/' + ann_name\n",
    "        new_img_path = root + '/JPEGImages/' + obj + '_' + img_name\n",
    "        new_ann_path = root + '/Annotations/' + obj + '_' + ann_name\n",
    "        os.rename(img_path, new_img_path)\n",
    "        os.rename(ann_path, new_ann_path)"
   ]
  },
  {
   "cell_type": "code",
   "execution_count": 32,
   "metadata": {},
   "outputs": [],
   "source": [
    "file_path = '/media/arg_ws3/5E703E3A703E18EB/data/subt_artifact/ImageSets/Main/'\n",
    "train_file = open(file_path + \"train.txt\", \"w\")\n",
    "test_file = open(file_path + \"test.txt\", \"w\")\n",
    "img_path = \"/media/arg_ws3/5E703E3A703E18EB/data/subt_artifact/JPEGImages\"\n",
    "img_list = os.listdir(img_path)\n",
    "ratio = 0.9\n",
    "counter = 0\n",
    "data_num = len(img_list)\n",
    "pick_list = []\n",
    "while counter < data_num:\n",
    "    idx = random.randint(0, data_num - 1)\n",
    "    if idx not in pick_list:\n",
    "        name = img_list[idx].split('.')[0] + '\\n'\n",
    "        if counter < data_num * ratio:\n",
    "            train_file.write(name)\n",
    "        else:\n",
    "            test_file.write(name)\n",
    "        counter = counter + 1\n",
    "train_file.close()\n",
    "test_file.close()"
   ]
  },
  {
   "cell_type": "code",
   "execution_count": 7,
   "metadata": {},
   "outputs": [],
   "source": [
    "file_path = '/media/arg_ws3/5E703E3A703E18EB/data/subt_artifact/ImageSets/Main/'\n",
    "ext_file = open(file_path + \"radio.txt\", \"w\")\n",
    "img_path = \"/media/arg_ws3/5E703E3A703E18EB/data/subt_artifact/JPEGImages\"\n",
    "img_list = os.listdir(img_path)\n",
    "ratio = 0.9\n",
    "counter = 0\n",
    "data_num = len(img_list)\n",
    "pick_list = []\n",
    "for img in img_list:\n",
    "    data_name = img.split('.')[0]\n",
    "    ext_cha = img.replace('_', '.').split('.')[0]\n",
    "    if ext_cha == \"radio\":\n",
    "        name = data_name + '\\n'\n",
    "        ext_file.write(name)\n",
    "ext_file.close()"
   ]
  },
  {
   "cell_type": "code",
   "execution_count": 55,
   "metadata": {},
   "outputs": [
    {
     "name": "stdout",
     "output_type": "stream",
     "text": [
      "/home/biomotion/subt_docker/data/extinguisher/frame000057.jpg\n"
     ]
    }
   ],
   "source": [
    "import xml.etree.ElementTree as ET\n",
    "import os.path as osp\n",
    "f_path = '/media/arg_ws3/5E703E3A703E18EB/data/subt_artifact/ImageSets/Main/ext.txt'\n",
    "annopath = osp.join('/media/arg_ws3/5E703E3A703E18EB/data/subt_artifact/Annotations', '%s.xml')\n",
    "ids_list = []\n",
    "for line in open(osp.join(f_path)):\n",
    "    ids_list.append(line.strip())\n",
    "for ids in ids_list:\n",
    "    target = ET.parse(annopath % ids).getroot()\n",
    "    name = target.find('object').find('name').text\n",
    "    if name != \"extinguisher\":\n",
    "        print(target.find('path').text)\n",
    "#target = ET.parse(annopath % id).getroot()"
   ]
  },
  {
   "cell_type": "code",
   "execution_count": 18,
   "metadata": {},
   "outputs": [],
   "source": [
    "process_Vdata(V_f)"
   ]
  },
  {
   "cell_type": "code",
   "execution_count": 60,
   "metadata": {},
   "outputs": [],
   "source": [
    "def mv_virtual():\n",
    "    for V_f_ in V_f:\n",
    "        ch_path = V_path + \"/\" + V_f_\n",
    "        ch_f = os.listdir(ch_path)\n",
    "        for ch_f_ in ch_f:\n",
    "            ch_ch_f_path = ch_path + \"/\" + ch_f_\n",
    "            img_data = os.listdir(ch_ch_f_path)\n",
    "            for img in img_data:\n",
    "                new_img = B_folder + \"/\" + img\n",
    "                orig_img = ch_ch_f_path + \"/\" + img\n",
    "                os.rename(orig_img, new_img)"
   ]
  },
  {
   "cell_type": "code",
   "execution_count": 86,
   "metadata": {},
   "outputs": [],
   "source": [
    "def rename_real(img_data, path):\n",
    "    for img in img_data:\n",
    "        name_split = img.replace('_', '.').split('.')\n",
    "        img_path = path + \"/\" + img\n",
    "        path_split = path.split('/')\n",
    "        new_name = path_split[-2] + \"_\" + path_split[-1] + \"_\" + img\n",
    "        new_path = path + \"/\" + new_name\n",
    "        if not os.path.isdir(img_path):\n",
    "            os.rename(img_path, new_path)"
   ]
  },
  {
   "cell_type": "code",
   "execution_count": 87,
   "metadata": {},
   "outputs": [],
   "source": [
    "def mv_real(v_f):\n",
    "    for V_f_ in v_f:\n",
    "        ch_path = V_path + \"/\" + V_f_\n",
    "        ch_f = os.listdir(ch_path)\n",
    "        for ch_f_ in ch_f:\n",
    "            ch_ch_f_path = ch_path + \"/\" + ch_f_\n",
    "            img_data = os.listdir(ch_ch_f_path)\n",
    "            rename_real(img_data, ch_ch_f_path)"
   ]
  },
  {
   "cell_type": "code",
   "execution_count": 89,
   "metadata": {},
   "outputs": [
    {
     "name": "stdout",
     "output_type": "stream",
     "text": [
      "['3m', 'andes', 'cocacola', 'crayola', 'folgers', 'heineken', 'hunts', 'kellogg', 'kleenex', 'kotex', 'libava', 'macadamia', 'milo', 'mm', 'pocky', 'raisins', 'stax', 'swissmiss', 'vanish', 'viva']\n"
     ]
    }
   ],
   "source": [
    "V_path = \"/media/arg_ws3/5E703E3A703E18EB/data/MM/img\"\n",
    "A_folder = \"/media/arg_ws3/5E703E3A703E18EB/data/MM/A\"\n",
    "V_f = os.listdir(V_path)\n",
    "print(V_f)"
   ]
  },
  {
   "cell_type": "code",
   "execution_count": 91,
   "metadata": {},
   "outputs": [],
   "source": [
    "def mv2A(v_f):\n",
    "    for V_f_ in v_f:\n",
    "        ch_path = V_path + \"/\" + V_f_\n",
    "        ch_f = os.listdir(ch_path)\n",
    "        for ch_f_ in ch_f:\n",
    "            ch_ch_f_path = ch_path + \"/\" + ch_f_\n",
    "            img_data = os.listdir(ch_ch_f_path)\n",
    "            for img in img_data:\n",
    "                new_img = A_folder + \"/\" + img\n",
    "                orig_img = ch_ch_f_path + \"/\" + img\n",
    "                if not os.path.isdir(orig_img):\n",
    "                    os.rename(orig_img, new_img)"
   ]
  },
  {
   "cell_type": "code",
   "execution_count": 95,
   "metadata": {},
   "outputs": [
    {
     "data": {
      "text/plain": [
       "40320"
      ]
     },
     "execution_count": 95,
     "metadata": {},
     "output_type": "execute_result"
    }
   ],
   "source": [
    "len(os.listdir(A_folder))\n",
    "len(os.listdir(B_folder))"
   ]
  },
  {
   "cell_type": "code",
   "execution_count": 2,
   "metadata": {},
   "outputs": [
    {
     "data": {
      "text/plain": [
       "2"
      ]
     },
     "execution_count": 2,
     "metadata": {},
     "output_type": "execute_result"
    }
   ],
   "source": [
    "import random\n",
    "random.randint(0, 2)"
   ]
  },
  {
   "cell_type": "code",
   "execution_count": 4,
   "metadata": {},
   "outputs": [],
   "source": [
    "def data_split(orig_path, train_path, test_path, ratio):\n",
    "    data = os.listdir(orig_path)\n",
    "    data_num = len(data)\n",
    "    train_num = int(data_num * ratio)\n",
    "    counter = 0\n",
    "    pick_list = []\n",
    "    while counter < (data_num):\n",
    "        idx = random.randint(0, data_num-1)\n",
    "        if idx not in pick_list:\n",
    "            pick_list.append(idx)\n",
    "            img_path = orig_path + \"/\" + data[idx]\n",
    "            new_train_path = train_path + \"/\" + data[idx]\n",
    "            new_test_path = test_path + \"/\" + data[idx]\n",
    "            if counter < train_num:\n",
    "                os.rename(img_path, new_train_path)\n",
    "            else:\n",
    "                os.rename(img_path, new_test_path)\n",
    "            counter = counter + 1"
   ]
  },
  {
   "cell_type": "code",
   "execution_count": 6,
   "metadata": {},
   "outputs": [],
   "source": [
    "data_split(\"/media/arg_ws3/5E703E3A703E18EB/data/MM_BOX/B\", \"/media/arg_ws3/5E703E3A703E18EB/data/MM_BOX/train/B\", \"/media/arg_ws3/5E703E3A703E18EB/data/MM_BOX/test/B\", 0.9)"
   ]
  },
  {
   "cell_type": "code",
   "execution_count": 34,
   "metadata": {},
   "outputs": [],
   "source": [
    "def move_folder(orig_path, new_path):\n",
    "    data_list = os.listdir(orig_path)\n",
    "    for data in data_list:\n",
    "        orig_data = orig_path + \"/\" + data\n",
    "        new_data = new_path + \"/\" + data\n",
    "        os.rename(orig_data, new_data)"
   ]
  },
  {
   "cell_type": "code",
   "execution_count": 36,
   "metadata": {},
   "outputs": [],
   "source": [
    "move_folder(\"/media/arg_ws3/5E703E3A703E18EB/data/MM_sem/train/A\", \"/media/arg_ws3/5E703E3A703E18EB/data/MM_sem/A\")"
   ]
  }
 ],
 "metadata": {
  "kernelspec": {
   "display_name": "Python 3",
   "language": "python",
   "name": "python3"
  },
  "language_info": {
   "codemirror_mode": {
    "name": "ipython",
    "version": 3
   },
   "file_extension": ".py",
   "mimetype": "text/x-python",
   "name": "python",
   "nbconvert_exporter": "python",
   "pygments_lexer": "ipython3",
   "version": "3.5.2"
  }
 },
 "nbformat": 4,
 "nbformat_minor": 2
}
