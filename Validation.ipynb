{
 "cells": [
  {
   "cell_type": "code",
   "execution_count": 1,
   "metadata": {},
   "outputs": [],
   "source": [
    "import os\n",
    "import sys\n",
    "module_path = os.path.abspath(os.path.join('..'))\n",
    "if module_path not in sys.path:\n",
    "    sys.path.append(module_path)\n",
    "import torch\n",
    "import torch.nn as nn\n",
    "import torch.backends.cudnn as cudnn\n",
    "from torch.autograd import Variable\n",
    "import numpy as np\n",
    "import cv2\n",
    "if torch.cuda.is_available():\n",
    "    torch.set_default_tensor_type('torch.cuda.FloatTensor')\n",
    "\n",
    "from ssd import build_ssd\n",
    "%matplotlib inline\n",
    "from matplotlib import pyplot as plt\n",
    "import random\n",
    "import os.path as osp"
   ]
  },
  {
   "cell_type": "markdown",
   "metadata": {},
   "source": [
    "## Define class and matching index"
   ]
  },
  {
   "cell_type": "code",
   "execution_count": 3,
   "metadata": {},
   "outputs": [
    {
     "name": "stdout",
     "output_type": "stream",
     "text": [
      "['background', 'people']\n"
     ]
    }
   ],
   "source": [
    "#label_idx = {'valve': 4, 'backpack': 0, 'extinguisher': 1, 'toolbox': 3, 'radio': 2}\n",
    "label_idx = {'people': 0}\n",
    "label_idx = sorted(label_idx.items(), key=lambda kv: kv[1])\n",
    "label = ['background']\n",
    "for i in label_idx:\n",
    "    label.append(i[0])\n",
    "print(label)\n",
    "label = ['background', 'people', 'palm']"
   ]
  },
  {
   "cell_type": "code",
   "execution_count": 13,
   "metadata": {},
   "outputs": [
    {
     "name": "stdout",
     "output_type": "stream",
     "text": [
      "Loading weights into state dict...\n",
      "Finished!\n"
     ]
    }
   ],
   "source": [
    "net = build_ssd('test', 300, 2)    # initialize SSD, +1 for background\n",
    "net.load_weights('./weights/subt_real/subt_real_95.pth')"
   ]
  },
  {
   "cell_type": "markdown",
   "metadata": {},
   "source": [
    "## Build SSD300 Network"
   ]
  },
  {
   "cell_type": "code",
   "execution_count": 16,
   "metadata": {
    "scrolled": true
   },
   "outputs": [
    {
     "name": "stdout",
     "output_type": "stream",
     "text": [
      "VOC2007_006698.jpg\n",
      "torch.Size([1, 2, 200, 5])\n"
     ]
    },
    {
     "data": {
      "text/plain": [
       "<matplotlib.image.AxesImage at 0x7f5324045b00>"
      ]
     },
     "execution_count": 16,
     "metadata": {},
     "output_type": "execute_result"
    },
    {
     "data": {
      "image/png": "[encoded data removed]",
      "text/plain": [
       "<Figure size 720x720 with 1 Axes>"
      ]
     },
     "metadata": {
      "needs_background": "light"
     },
     "output_type": "display_data"
    }
   ],
   "source": [
    "IMAGE_ROOT = \"/media/arg_ws3/5E703E3A703E18EB/data/argbot/person/image/\"\n",
    "img_list = os.listdir(IMAGE_ROOT)\n",
    "#test_file = '/media/arg_ws3/5E703E3A703E18EB/data/subt_artifact/ImageSets/Main/test.txt'\n",
    "#img_list = []\n",
    "#for line in open(osp.join(test_file)):\n",
    "#    img_list.append(line.strip())\n",
    "\n",
    "img_id = img_list[int(random.randint(0, len(img_list)-1))]\n",
    "print(img_id)\n",
    "#img_path = IMAGE_ROOT + '/' + img_list[img_id]\n",
    "#img_path = IMAGE_ROOT + '/' + img_list[img_id] + '.jpg'\n",
    "#print(img_id)\n",
    "#image = cv2.imread(IMAGE_ROOT + img_id)\n",
    "image = cv2.imread('/media/arg_ws3/5E703E3A703E18EB/data/subt_real_ssd/JPEGImages/scene000001_9.png')\n",
    "rgb_image = cv2.cvtColor(image, cv2.COLOR_RGB2BGR)\n",
    "# View the sampled input image before transform\n",
    "plt.figure(figsize=(10,10))\n",
    "#plt.imshow(rgb_image)\n",
    "#plt.show()\n",
    "\n",
    "x = cv2.resize(image, (300, 300)).astype(np.float32)\n",
    "x -= (104.0, 117.0, 123.0)\n",
    "x = x.astype(np.float32)\n",
    "x = x[:, :, ::-1].copy()\n",
    "x = torch.from_numpy(x).permute(2, 0, 1)\n",
    "\n",
    "xx = Variable(x.unsqueeze(0))     # wrap tensor in Variable\n",
    "if torch.cuda.is_available():\n",
    "    xx = xx.cuda()\n",
    "y = net(xx)\n",
    "print(y.shape)\n",
    "currentAxis = plt.gca()\n",
    "scale = torch.Tensor(rgb_image.shape[1::-1]).repeat(2)\n",
    "detections = y.data # torch.Size([1, 4, 200, 5]) --> [batch?, class, object, coordinates]\n",
    "objs = []\n",
    "for i in range(detections.size(1)): # detections.size(1) --> class size\n",
    "    for j in range(5): # each class choose top 5 predictions\n",
    "        if detections[0, i, j, 0].cpu().numpy() > 0.2:\n",
    "            score = detections[0, i, j, 0]\n",
    "            pt = (detections[0, i, j,1:]*scale).cpu().numpy()\n",
    "            objs.append([pt[0], pt[1], pt[2]-pt[0]+1, pt[3]-pt[1]+1, i, score])\n",
    "    color_BBX = (255, 255, 0)\n",
    "    color_TEXT = (255, 0, 0)\n",
    "    colors = plt.cm.hsv(np.linspace(0, 1, 10)).tolist()\n",
    "    for i, obj in enumerate(objs):\n",
    "        #cv2.rectangle(rgb_image, (int(obj[0]), int(obj[1])),\\\n",
    "        #            (int(obj[0] + obj[2]), int(obj[1] + obj[3])), color_BBX, 3)\n",
    "        #cv2.putText(rgb_image, label[obj[4]], (int(obj[0]), int(obj[1])), 0, 1, color_TEXT,2)\n",
    "        coords = (obj[0], obj[1]), obj[2], obj[3]\n",
    "        display_txt = '%s: %.2f'%(label[obj[4]], obj[5])\n",
    "        currentAxis.add_patch(plt.Rectangle(*coords, fill=False, edgecolor=colors[i], linewidth=2))\n",
    "        currentAxis.text(obj[0], obj[1], display_txt, bbox={'facecolor':colors[i], 'alpha':0.5})\n",
    "plt.imshow(rgb_image)"
   ]
  },
  {
   "cell_type": "code",
   "execution_count": null,
   "metadata": {},
   "outputs": [],
   "source": [
    "torch.Size([1, 2, 200, 5])"
   ]
  },
  {
   "cell_type": "code",
   "execution_count": null,
   "metadata": {},
   "outputs": [],
   "source": []
  },
  {
   "cell_type": "code",
   "execution_count": null,
   "metadata": {},
   "outputs": [],
   "source": []
  }
 ],
 "metadata": {
  "kernelspec": {
   "display_name": "Python 3",
   "language": "python",
   "name": "python3"
  },
  "language_info": {
   "codemirror_mode": {
    "name": "ipython",
    "version": 3
   },
   "file_extension": ".py",
   "mimetype": "text/x-python",
   "name": "python",
   "nbconvert_exporter": "python",
   "pygments_lexer": "ipython3",
   "version": "3.5.2"
  }
 },
 "nbformat": 4,
 "nbformat_minor": 2
}
