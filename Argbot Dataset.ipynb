{
 "cells": [
  {
   "cell_type": "code",
   "execution_count": 62,
   "metadata": {},
   "outputs": [],
   "source": [
    "import os.path as osp\n",
    "import os\n",
    "import xml.etree.ElementTree as ET\n",
    "import cv2\n",
    "import numpy as np\n",
    "from shutil import copyfile\n",
    "import random"
   ]
  },
  {
   "cell_type": "code",
   "execution_count": 56,
   "metadata": {},
   "outputs": [],
   "source": [
    "img_save_path = '/media/arg_ws3/5E703E3A703E18EB/data/argbot/Image/'\n",
    "ann_save_path = '/media/arg_ws3/5E703E3A703E18EB/data/argbot/Annotation/'\n",
    "main_path = '/media/arg_ws3/5E703E3A703E18EB/data/argbot/Main'\n",
    "source_path = '/media/arg_ws3/5E703E3A703E18EB/data/argbot/hand/'"
   ]
  },
  {
   "cell_type": "markdown",
   "metadata": {},
   "source": [
    "## Data from LabelME"
   ]
  },
  {
   "cell_type": "code",
   "execution_count": 55,
   "metadata": {},
   "outputs": [],
   "source": [
    "collection_list = os.listdir(source_path)\n",
    "for collection in collection_list:\n",
    "    user_path =source_path + collection + '/Annotations/users/'\n",
    "    for root, dirs, files in os.walk(user_path):\n",
    "        for file in files:\n",
    "            img_name = file.split('.')[0] + '.jpg'\n",
    "            new_img_name = 'palm_' + img_name\n",
    "            new_ann_name = 'palm_' + file\n",
    "            ann_path = root + '/' + file\n",
    "            new_ann_path = ann_save_path + new_ann_name\n",
    "            split_name = root.split('/')\n",
    "            img_path = ''\n",
    "            for name in split_name:\n",
    "                if name == 'Annotations':\n",
    "                    img_path = img_path + 'Images/'\n",
    "                else:\n",
    "                    img_path = img_path + name + '/'\n",
    "            new_img_path = img_save_path + new_img_name\n",
    "            img_path = img_path + img_name\n",
    "            #print(img_path)\n",
    "            #print(new_img_path)\n",
    "            os.rename(img_path, new_img_path)\n",
    "            os.rename(ann_path, new_ann_path)"
   ]
  },
  {
   "cell_type": "code",
   "execution_count": 47,
   "metadata": {},
   "outputs": [
    {
     "data": {
      "text/plain": [
       "True"
      ]
     },
     "execution_count": 47,
     "metadata": {},
     "output_type": "execute_result"
    }
   ],
   "source": [
    "a = '/media/arg_ws3/5E703E3A703E18EB/data/argbot/hand/collection/Images/users/championway/hands/img_23.jpg'\n",
    "b = '/media/arg_ws3/5E703E3A703E18EB/data/argbot/hand/collection/Images/users/championway/hands/img_23.jpg'\n",
    "a==b"
   ]
  },
  {
   "cell_type": "code",
   "execution_count": 95,
   "metadata": {},
   "outputs": [],
   "source": [
    "train_file = open(main_path + '/palm_train.txt', \"w\")\n",
    "test_file = open(main_path + '/palm_test.txt', \"w\")\n",
    "ann_list = os.listdir(ann_save_path)\n",
    "counter = 0\n",
    "ratio = 0.9\n",
    "data_num = len(ann_list)\n",
    "pick_list = []\n",
    "while counter < data_num:\n",
    "    idx = random.randint(0, data_num-1)\n",
    "    if idx not in pick_list:\n",
    "        pick_list.append(idx)\n",
    "        name = ann_list[idx].split('.')[0]\n",
    "        if os.path.isfile(img_save_path + name + '.jpg'):\n",
    "            if counter < data_num * ratio:\n",
    "                train_file.write(name + '\\n')\n",
    "            else:\n",
    "                test_file.write(name + '\\n')\n",
    "            counter = counter + 1\n",
    "train_file.close()\n",
    "test_file.close()"
   ]
  },
  {
   "cell_type": "code",
   "execution_count": null,
   "metadata": {},
   "outputs": [],
   "source": [
    "def data_split(orig_path, train_path, test_path, ratio):\n",
    "    data = os.listdir(orig_path)\n",
    "    data_num = len(data)\n",
    "    train_num = int(data_num * ratio)\n",
    "    counter = 0\n",
    "    pick_list = []\n",
    "    while counter < (data_num):\n",
    "        idx = random.randint(0, data_num-1)\n",
    "        if idx not in pick_list:\n",
    "            pick_list.append(idx)\n",
    "            img_path = orig_path + \"/\" + data[idx]\n",
    "            new_train_path = train_path + \"/\" + data[idx]\n",
    "            new_test_path = test_path + \"/\" + data[idx]\n",
    "            if counter < train_num:\n",
    "                os.rename(img_path, new_train_path)\n",
    "            else:\n",
    "                os.rename(img_path, new_test_path)\n",
    "            counter = counter + 1"
   ]
  },
  {
   "cell_type": "code",
   "execution_count": null,
   "metadata": {},
   "outputs": [],
   "source": []
  },
  {
   "cell_type": "code",
   "execution_count": null,
   "metadata": {},
   "outputs": [],
   "source": []
  },
  {
   "cell_type": "code",
   "execution_count": 106,
   "metadata": {},
   "outputs": [],
   "source": [
    "train_frame_ids = []\n",
    "for line in open(osp.join('/media/arg_ws3/5E703E3A703E18EB/data/VOCdevkit/VOC2012/ImageSets/Main/person_trainval.txt')):\n",
    "    check_exist = line.strip().split(' ')[-1]\n",
    "    if check_exist != '-1' and check_exist != '0':\n",
    "        train_frame_ids.append(line.strip().split(' ')[0])"
   ]
  },
  {
   "cell_type": "code",
   "execution_count": 136,
   "metadata": {},
   "outputs": [],
   "source": [
    "all_person_file = []"
   ]
  },
  {
   "cell_type": "code",
   "execution_count": 141,
   "metadata": {},
   "outputs": [],
   "source": [
    "for line in open(osp.join('/media/arg_ws3/5E703E3A703E18EB/data/VOCdevkit/VOC2007/ImageSets/Main/person_test.txt')):\n",
    "    check_exist = line.strip().split(' ')[-1]\n",
    "    if check_exist != '-1' and check_exist != '0':\n",
    "        all_person_file.append('VOC2007_' + line.strip().split(' ')[0])"
   ]
  },
  {
   "cell_type": "code",
   "execution_count": 142,
   "metadata": {},
   "outputs": [
    {
     "data": {
      "text/plain": [
       "8102"
      ]
     },
     "execution_count": 142,
     "metadata": {},
     "output_type": "execute_result"
    }
   ],
   "source": [
    "len(all_person_file)"
   ]
  },
  {
   "cell_type": "code",
   "execution_count": 145,
   "metadata": {},
   "outputs": [],
   "source": [
    "train_file = open(main_path + '/person_train.txt', \"w\")\n",
    "test_file = open(main_path + '/person_test.txt', \"w\")\n",
    "counter = 0\n",
    "ratio = 0.9\n",
    "data_num = len(all_person_file)\n",
    "pick_list = []\n",
    "while counter < data_num:\n",
    "    idx = random.randint(0, data_num-1)\n",
    "    if idx not in pick_list:\n",
    "        pick_list.append(idx)\n",
    "        name = all_person_file[idx]\n",
    "        if counter < data_num * ratio:\n",
    "            train_file.write(name + '\\n')\n",
    "        else:\n",
    "            test_file.write(name + '\\n')\n",
    "        counter = counter + 1\n",
    "train_file.close()\n",
    "test_file.close()"
   ]
  },
  {
   "cell_type": "code",
   "execution_count": null,
   "metadata": {},
   "outputs": [],
   "source": []
  },
  {
   "cell_type": "code",
   "execution_count": 112,
   "metadata": {},
   "outputs": [],
   "source": [
    "train_labels = []\n",
    "for frame_id in train_frame_ids:\n",
    "    ann_path = '/media/arg_ws3/5E703E3A703E18EB/data/VOCdevkit/VOC2012/Annotations/'+ frame_id + '.xml'\n",
    "    img_path = '/media/arg_ws3/5E703E3A703E18EB/data/VOCdevkit/VOC2012/JPEGImages/'+ frame_id + '.jpg'\n",
    "    '''target = ET.parse(ann_path).getroot()\n",
    "    img = cv2.imread(img_path)\n",
    "    height, width, channels = img.shape\n",
    "    res = []\n",
    "    have_object = False\n",
    "    bndboxs = []\n",
    "    for obj in target.iter('object'):\n",
    "        difficult = int(obj.find('difficult').text) == 1\n",
    "        if difficult:\n",
    "            continue\n",
    "        name = obj.find('name').text.lower().strip()\n",
    "        bbox = obj.find('bndbox')\n",
    "        if name != 'person':\n",
    "            continue\n",
    "        have_object = True\n",
    "        pts = ['xmin', 'ymin', 'xmax', 'ymax']\n",
    "        bndbox = []\n",
    "        for i, pt in enumerate(pts):\n",
    "            cur_pt = int(bbox.find(pt).text) - 1\n",
    "            # scale height or width\n",
    "            #cur_pt = cur_pt / width if i % 2 == 0 else cur_pt / height\n",
    "            bndbox.append(cur_pt)\n",
    "        bndboxs.append(bndbox)\n",
    "    #train_labels.append(['VOC2007_' + frame_id, len(bndboxs), bndboxs])  # [xmin, ymin, xmax, ymax, label_ind]'''\n",
    "    #if have_object:\n",
    "        #print(\"no object\")\n",
    "    #copyfile(img_path, img_save_path + 'VOC2012_' + frame_id + '.jpg')\n",
    "    copyfile(ann_path, ann_save_path + 'VOC2012_' + frame_id + '.xml')"
   ]
  },
  {
   "cell_type": "code",
   "execution_count": 99,
   "metadata": {},
   "outputs": [
    {
     "name": "stdout",
     "output_type": "stream",
     "text": [
      "2008\n"
     ]
    }
   ],
   "source": [
    "print(len(train_labels))"
   ]
  },
  {
   "cell_type": "code",
   "execution_count": 116,
   "metadata": {},
   "outputs": [
    {
     "ename": "FileNotFoundError",
     "evalue": "[Errno 2] No such file or directory: '/media/arg_ws3/5E703E3A703E18EB/data/VOCdevkit/VOC2012/ImageSets/Main/person_test.txt'",
     "output_type": "error",
     "traceback": [
      "\u001b[0;31m---------------------------------------------------------------------------\u001b[0m",
      "\u001b[0;31mFileNotFoundError\u001b[0m                         Traceback (most recent call last)",
      "\u001b[0;32m<ipython-input-116-59063cf4e3dc>\u001b[0m in \u001b[0;36m<module>\u001b[0;34m\u001b[0m\n\u001b[1;32m      1\u001b[0m \u001b[0mtest_frame_ids\u001b[0m \u001b[0;34m=\u001b[0m \u001b[0;34m[\u001b[0m\u001b[0;34m]\u001b[0m\u001b[0;34m\u001b[0m\u001b[0m\n\u001b[0;32m----> 2\u001b[0;31m \u001b[0;32mfor\u001b[0m \u001b[0mline\u001b[0m \u001b[0;32min\u001b[0m \u001b[0mopen\u001b[0m\u001b[0;34m(\u001b[0m\u001b[0mosp\u001b[0m\u001b[0;34m.\u001b[0m\u001b[0mjoin\u001b[0m\u001b[0;34m(\u001b[0m\u001b[0;34m'/media/arg_ws3/5E703E3A703E18EB/data/VOCdevkit/VOC2012/ImageSets/Main/person_test.txt'\u001b[0m\u001b[0;34m)\u001b[0m\u001b[0;34m)\u001b[0m\u001b[0;34m:\u001b[0m\u001b[0;34m\u001b[0m\u001b[0m\n\u001b[0m\u001b[1;32m      3\u001b[0m     \u001b[0mcheck_exist\u001b[0m \u001b[0;34m=\u001b[0m \u001b[0mline\u001b[0m\u001b[0;34m.\u001b[0m\u001b[0mstrip\u001b[0m\u001b[0;34m(\u001b[0m\u001b[0;34m)\u001b[0m\u001b[0;34m.\u001b[0m\u001b[0msplit\u001b[0m\u001b[0;34m(\u001b[0m\u001b[0;34m' '\u001b[0m\u001b[0;34m)\u001b[0m\u001b[0;34m[\u001b[0m\u001b[0;34m-\u001b[0m\u001b[0;36m1\u001b[0m\u001b[0;34m]\u001b[0m\u001b[0;34m\u001b[0m\u001b[0m\n\u001b[1;32m      4\u001b[0m     \u001b[0;32mif\u001b[0m \u001b[0mcheck_exist\u001b[0m \u001b[0;34m!=\u001b[0m \u001b[0;34m'-1'\u001b[0m \u001b[0;32mand\u001b[0m \u001b[0mcheck_exist\u001b[0m \u001b[0;34m!=\u001b[0m \u001b[0;34m'0'\u001b[0m\u001b[0;34m:\u001b[0m\u001b[0;34m\u001b[0m\u001b[0m\n\u001b[1;32m      5\u001b[0m         \u001b[0mtest_frame_ids\u001b[0m\u001b[0;34m.\u001b[0m\u001b[0mappend\u001b[0m\u001b[0;34m(\u001b[0m\u001b[0mline\u001b[0m\u001b[0;34m.\u001b[0m\u001b[0mstrip\u001b[0m\u001b[0;34m(\u001b[0m\u001b[0;34m)\u001b[0m\u001b[0;34m.\u001b[0m\u001b[0msplit\u001b[0m\u001b[0;34m(\u001b[0m\u001b[0;34m' '\u001b[0m\u001b[0;34m)\u001b[0m\u001b[0;34m[\u001b[0m\u001b[0;36m0\u001b[0m\u001b[0;34m]\u001b[0m\u001b[0;34m)\u001b[0m\u001b[0;34m\u001b[0m\u001b[0m\n",
      "\u001b[0;31mFileNotFoundError\u001b[0m: [Errno 2] No such file or directory: '/media/arg_ws3/5E703E3A703E18EB/data/VOCdevkit/VOC2012/ImageSets/Main/person_test.txt'"
     ]
    }
   ],
   "source": [
    "test_frame_ids = []\n",
    "for line in open(osp.join('/media/arg_ws3/5E703E3A703E18EB/data/VOCdevkit/VOC2007/ImageSets/Main/person_test.txt')):\n",
    "    check_exist = line.strip().split(' ')[-1]\n",
    "    if check_exist != '-1' and check_exist != '0':\n",
    "        test_frame_ids.append(line.strip().split(' ')[0])"
   ]
  },
  {
   "cell_type": "code",
   "execution_count": 115,
   "metadata": {},
   "outputs": [],
   "source": [
    "test_labels = []\n",
    "for frame_id in test_frame_ids:\n",
    "    ann_path = '/media/arg_ws3/5E703E3A703E18EB/data/VOCdevkit/VOC2007/Annotations/'+ frame_id + '.xml'\n",
    "    img_path = '/media/arg_ws3/5E703E3A703E18EB/data/VOCdevkit/VOC2007/JPEGImages/'+ frame_id + '.jpg'\n",
    "    '''target = ET.parse(ann_path).getroot()\n",
    "    img = cv2.imread(img_path)\n",
    "    height, width, channels = img.shape\n",
    "    res = []\n",
    "    have_object = False\n",
    "    bndboxs = []\n",
    "    for obj in target.iter('object'):\n",
    "        difficult = int(obj.find('difficult').text) == 1\n",
    "        if difficult:\n",
    "            continue\n",
    "        have_object = True\n",
    "        name = obj.find('name').text.lower().strip()\n",
    "        bbox = obj.find('bndbox')\n",
    "        if name != 'person':\n",
    "            continue\n",
    "        pts = ['xmin', 'ymin', 'xmax', 'ymax']\n",
    "        bndbox = []\n",
    "        for i, pt in enumerate(pts):\n",
    "            cur_pt = int(bbox.find(pt).text) - 1\n",
    "            # scale height or width\n",
    "            #cur_pt = cur_pt / width if i % 2 == 0 else cur_pt / height\n",
    "            bndbox.append(cur_pt)\n",
    "        bndboxs.append(bndbox)\n",
    "    test_labels.append(['VOC2007_' + frame_id, len(bndboxs), bndboxs])  # [xmin, ymin, xmax, ymax, label_ind]'''\n",
    "    #if have_object:\n",
    "    #    pass\n",
    "    #copyfile(img_path, img_save_path + 'VOC2007_' + frame_id + '.jpg')\n",
    "    copyfile(ann_path, ann_save_path + 'VOC2007_' + frame_id + '.xml')"
   ]
  },
  {
   "cell_type": "code",
   "execution_count": 102,
   "metadata": {},
   "outputs": [
    {
     "name": "stdout",
     "output_type": "stream",
     "text": [
      "2007\n"
     ]
    }
   ],
   "source": [
    "print(len(test_labels))"
   ]
  },
  {
   "cell_type": "code",
   "execution_count": 103,
   "metadata": {},
   "outputs": [
    {
     "name": "stdout",
     "output_type": "stream",
     "text": [
      "4015\n"
     ]
    }
   ],
   "source": [
    "a = []\n",
    "b = []\n",
    "a.append(['ldd',['4', '33', '2', '8']])\n",
    "a.append(['afs',['4', '2', '34', '1']])\n",
    "a.append(['afs',['4', '2',  '2', '8']])\n",
    "print(2008+2007)"
   ]
  },
  {
   "cell_type": "code",
   "execution_count": 104,
   "metadata": {},
   "outputs": [],
   "source": [
    "c = a + b\n",
    "label = train_labels + test_labels"
   ]
  },
  {
   "cell_type": "code",
   "execution_count": 105,
   "metadata": {},
   "outputs": [
    {
     "name": "stdout",
     "output_type": "stream",
     "text": [
      "4015\n"
     ]
    }
   ],
   "source": [
    "print(len(label))"
   ]
  },
  {
   "cell_type": "code",
   "execution_count": 106,
   "metadata": {},
   "outputs": [],
   "source": [
    "txtfile = open(\"/media/arg_ws3/5E703E3A703E18EB/data/person/voc_2007_ann.txt\", \"w\")\n",
    "for i in label:\n",
    "    data = i[0] + ',' + str(i[1]) + ','\n",
    "    for j in i[2]:\n",
    "        for k in j:\n",
    "            data = data + str(k) + ','\n",
    "    data = data[:-1] + '\\n'\n",
    "    txtfile.write(data)\n",
    "txtfile.close()"
   ]
  }
 ],
 "metadata": {
  "kernelspec": {
   "display_name": "Python 3",
   "language": "python",
   "name": "python3"
  },
  "language_info": {
   "codemirror_mode": {
    "name": "ipython",
    "version": 3
   },
   "file_extension": ".py",
   "mimetype": "text/x-python",
   "name": "python",
   "nbconvert_exporter": "python",
   "pygments_lexer": "ipython3",
   "version": "3.5.2"
  }
 },
 "nbformat": 4,
 "nbformat_minor": 2
}
