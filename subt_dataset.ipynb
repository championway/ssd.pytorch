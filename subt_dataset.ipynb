{
 "cells": [
  {
   "cell_type": "code",
   "execution_count": 1,
   "metadata": {},
   "outputs": [],
   "source": [
    "import os.path as osp\n",
    "import os\n",
    "import xml.etree.ElementTree as ET\n",
    "import cv2\n",
    "import numpy as np\n",
    "from shutil import copyfile\n",
    "import random"
   ]
  },
  {
   "cell_type": "code",
   "execution_count": 2,
   "metadata": {},
   "outputs": [],
   "source": [
    "path = \"/media/arg_ws3/5E703E3A703E18EB/data/subt_real_ssd\"\n",
    "MASK_ROOT = \"/media/arg_ws3/5E703E3A703E18EB/data/subt_real_ssd/MASKImages\"\n",
    "IMG_ROOT = \"/media/arg_ws3/5E703E3A703E18EB/data/subt_real_ssd/JPEGImages\"\n",
    "ANN_ROOT = \"/media/arg_ws3/5E703E3A703E18EB/data/subt_real_ssd/Annotations\"\n",
    "IMG_PATH = \"/media/arg_ws3/5E703E3A703E18EB/data/subt_real_ssd/depth/extinguisher\"\n",
    "ANN_PATH = \"/media/arg_ws3/5E703E3A703E18EB/data/subt_real_ssd/annotation/extinguisher\""
   ]
  },
  {
   "cell_type": "code",
   "execution_count": 3,
   "metadata": {},
   "outputs": [],
   "source": [
    "k = \"/media/arg_ws3/5E703E3A703E18EB/data/subt_real_ssd/annotation/extinguisher/scene000001/0.xml\"\n",
    "a = \"/media/arg_ws3/5E703E3A703E18EB/data/subt_real_ssd/annotation/extinguisher/scene000001/0.xml\"\n",
    "b = \"/media/arg_ws3/5E703E3A703E18EB/data/subt_real_ssd/depth     /extinguisher/scene000001/0.png\"\n",
    "c = \"/media/arg_ws3/5E703E3A703E18EB/data/subt_real_ssd/depth     /extinguisher/scene000001/0.png\""
   ]
  },
  {
   "cell_type": "markdown",
   "metadata": {},
   "source": [
    "# Create JPEGImages & Annotations folders"
   ]
  },
  {
   "cell_type": "code",
   "execution_count": 4,
   "metadata": {},
   "outputs": [
    {
     "ename": "FileNotFoundError",
     "evalue": "[Errno 2] No such file or directory: '/media/arg_ws3/5E703E3A703E18EB/data/subt_real/annotation/extinguisher'",
     "output_type": "error",
     "traceback": [
      "\u001b[0;31m---------------------------------------------------------------------------\u001b[0m",
      "\u001b[0;31mFileNotFoundError\u001b[0m                         Traceback (most recent call last)",
      "\u001b[0;32m<ipython-input-4-357998aba57d>\u001b[0m in \u001b[0;36m<module>\u001b[0;34m\u001b[0m\n\u001b[0;32m----> 1\u001b[0;31m \u001b[0mscene_list\u001b[0m \u001b[0;34m=\u001b[0m \u001b[0mos\u001b[0m\u001b[0;34m.\u001b[0m\u001b[0mlistdir\u001b[0m\u001b[0;34m(\u001b[0m\u001b[0mANN_PATH\u001b[0m\u001b[0;34m)\u001b[0m\u001b[0;34m\u001b[0m\u001b[0m\n\u001b[0m\u001b[1;32m      2\u001b[0m \u001b[0;32mfor\u001b[0m \u001b[0mscene\u001b[0m \u001b[0;32min\u001b[0m \u001b[0mscene_list\u001b[0m\u001b[0;34m:\u001b[0m\u001b[0;34m\u001b[0m\u001b[0m\n\u001b[1;32m      3\u001b[0m     \u001b[0mscene_path\u001b[0m \u001b[0;34m=\u001b[0m \u001b[0mos\u001b[0m\u001b[0;34m.\u001b[0m\u001b[0mpath\u001b[0m\u001b[0;34m.\u001b[0m\u001b[0mjoin\u001b[0m\u001b[0;34m(\u001b[0m\u001b[0mANN_PATH\u001b[0m\u001b[0;34m,\u001b[0m \u001b[0mscene\u001b[0m\u001b[0;34m)\u001b[0m\u001b[0;34m\u001b[0m\u001b[0m\n\u001b[1;32m      4\u001b[0m     \u001b[0mfile_list\u001b[0m \u001b[0;34m=\u001b[0m \u001b[0mos\u001b[0m\u001b[0;34m.\u001b[0m\u001b[0mlistdir\u001b[0m\u001b[0;34m(\u001b[0m\u001b[0mscene_path\u001b[0m\u001b[0;34m)\u001b[0m\u001b[0;34m\u001b[0m\u001b[0m\n\u001b[1;32m      5\u001b[0m     \u001b[0;32mfor\u001b[0m \u001b[0mfile\u001b[0m \u001b[0;32min\u001b[0m \u001b[0mfile_list\u001b[0m\u001b[0;34m:\u001b[0m\u001b[0;34m\u001b[0m\u001b[0m\n",
      "\u001b[0;31mFileNotFoundError\u001b[0m: [Errno 2] No such file or directory: '/media/arg_ws3/5E703E3A703E18EB/data/subt_real/annotation/extinguisher'"
     ]
    }
   ],
   "source": [
    "scene_list = os.listdir(ANN_PATH)\n",
    "for scene in scene_list:\n",
    "    scene_path = os.path.join(ANN_PATH, scene)\n",
    "    file_list = os.listdir(scene_path)\n",
    "    for file in file_list:\n",
    "        xml_path = os.path.join(scene_path, file)\n",
    "        split = xml_path.replace('annotation', '.').split('.')\n",
    "        img_path = os.path.join(split[0], \"depth\" + split[1] + '.png')\n",
    "        mask_path = os.path.join(split[0], \"mask\" + split[1] + '.png')\n",
    "        file_name = scene + \"_\" + file.split('.')[0]\n",
    "        img_name = file_name + \".png\"\n",
    "        xml_name = file_name + \".xml\"\n",
    "        mask_name = file_name + \".png\"\n",
    "        #print(os.path.join(ANN_ROOT, xml_name))\n",
    "        if not os.path.isfile(os.path.join(MASK_ROOT, xml_name)):\n",
    "            copyfile(mask_path, os.path.join(MASK_ROOT, mask_name))\n",
    "            #copyfile(xml_path, os.path.join(ANN_ROOT, xml_name))\n",
    "            #copyfile(img_path, os.path.join(IMG_ROOT, img_name))\n",
    "        else:\n",
    "            continue"
   ]
  },
  {
   "cell_type": "markdown",
   "metadata": {},
   "source": [
    "# Create Training & Testing txt files"
   ]
  },
  {
   "cell_type": "code",
   "execution_count": 20,
   "metadata": {},
   "outputs": [],
   "source": [
    "file_path = '/media/arg_ws3/5E703E3A703E18EB/data/subt_real_ssd/ImageSets/Main/'\n",
    "train_file = open(file_path + \"train.txt\", \"w\")\n",
    "test_file = open(file_path + \"test.txt\", \"w\")\n",
    "ann_list = os.listdir(ANN_ROOT)\n",
    "ratio = 0.9\n",
    "counter = 0\n",
    "data_num = len(ann_list)\n",
    "pick_list = []\n",
    "while counter < data_num:\n",
    "    idx = random.randint(0, data_num - 1)\n",
    "    if idx not in pick_list:\n",
    "        name = ann_list[idx].split('.')[0] + '\\n'\n",
    "        if counter < data_num * ratio:\n",
    "            train_file.write(name)\n",
    "        else:\n",
    "            test_file.write(name)\n",
    "        counter = counter + 1\n",
    "train_file.close()\n",
    "test_file.close()"
   ]
  }
 ],
 "metadata": {
  "kernelspec": {
   "display_name": "Python 3",
   "language": "python",
   "name": "python3"
  },
  "language_info": {
   "codemirror_mode": {
    "name": "ipython",
    "version": 3
   },
   "file_extension": ".py",
   "mimetype": "text/x-python",
   "name": "python",
   "nbconvert_exporter": "python",
   "pygments_lexer": "ipython3",
   "version": "3.5.2"
  }
 },
 "nbformat": 4,
 "nbformat_minor": 2
}
