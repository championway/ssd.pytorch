{
 "cells": [
  {
   "cell_type": "code",
   "execution_count": 1,
   "metadata": {},
   "outputs": [],
   "source": [
    "import xml.etree.ElementTree as ET"
   ]
  },
  {
   "cell_type": "code",
   "execution_count": 5,
   "metadata": {},
   "outputs": [],
   "source": [
    "target = ET.parse('/media/arg_ws3/5E703E3A703E18EB/data/argbot/Annotations/palm_img_32.xml').getroot()"
   ]
  },
  {
   "cell_type": "code",
   "execution_count": 21,
   "metadata": {},
   "outputs": [
    {
     "name": "stdout",
     "output_type": "stream",
     "text": [
      "[328, 195, 364, 252]\n",
      "[326, 107, 474, 478]\n"
     ]
    }
   ],
   "source": [
    "for obj in target.iter('object'):\n",
    "    polygons = obj.find('polygon')\n",
    "    x = []\n",
    "    y = []\n",
    "    for polygon in polygons.iter('pt'):\n",
    "        x.append(int(polygon.find('x').text))\n",
    "        y.append(int(polygon.find('y').text))\n",
    "    bndbox = [min(x), min(y), max(x), max(y)]\n",
    "    print(bndbox)"
   ]
  },
  {
   "cell_type": "code",
   "execution_count": 13,
   "metadata": {},
   "outputs": [
    {
     "data": {
      "text/plain": [
       "9"
      ]
     },
     "execution_count": 13,
     "metadata": {},
     "output_type": "execute_result"
    }
   ],
   "source": [
    "a= [9,3,4,6,8]\n",
    "min(a)\n",
    "max(a)"
   ]
  }
 ],
 "metadata": {
  "kernelspec": {
   "display_name": "Python 3",
   "language": "python",
   "name": "python3"
  },
  "language_info": {
   "codemirror_mode": {
    "name": "ipython",
    "version": 3
   },
   "file_extension": ".py",
   "mimetype": "text/x-python",
   "name": "python",
   "nbconvert_exporter": "python",
   "pygments_lexer": "ipython3",
   "version": "3.5.2"
  }
 },
 "nbformat": 4,
 "nbformat_minor": 2
}
